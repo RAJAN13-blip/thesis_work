{
 "cells": [
  {
   "cell_type": "code",
   "execution_count": 2,
   "metadata": {},
   "outputs": [],
   "source": [
    "# IMPORTS\n",
    "import jax.numpy as jnp\n",
    "import numpy as np\n",
    "import flax\n",
    "import flax.linen as nn\n",
    "from typing import Any, Tuple\n",
    "import functools\n",
    "import jax\n"
   ]
  },
  {
   "cell_type": "code",
   "execution_count": null,
   "metadata": {},
   "outputs": [],
   "source": [
    "class alpha_step_projection(nn.Module):\n",
    "    embed_dim : int\n",
    "    scale : float = 30.\n",
    "    \n",
    "    @nn.compact\n",
    "    def __call__(self, x):\n",
    "        W = self.param('W', jax.nn.initializers.xavier_normal(stddev=self.scale),\n",
    "                       (self.embed_dim//2,))\n",
    "        W = jax.lax.stop_gradient(W)\n",
    "        x_proj = x[:, None]* W[None, :] * 2* jnp.pi\n",
    "        return jnp.concatenate([jnp.sin(x_proj), jnp.cos(x_proj)], axis = -1)\n",
    "    \n",
    "class Dense(nn.Module):\n",
    "    \"\"\"A fully connected layer that reshapes outputs for addition\"\"\"\n",
    "    output_dim : int\n",
    "\n",
    "    @nn.compact\n",
    "    def __call__(self, x):\n",
    "        return nn.Dense(self.output_dim)(x)\n",
    "    \n",
    "class diffusion_model(nn.Module):\n",
    "    channels : Tuple[int] = (64,64,64,64,64,2)\n",
    "    embed_dim : int = 256\n",
    "\n",
    "    @nn.compact\n",
    "    def __call__(self, x, alpha):\n",
    "        act = nn.swish\n",
    "        embed = act(nn.Dense(self.embed_dim)(alpha_step_projection(embed_dim=self.embed_dim)(alpha)))\n",
    "\n",
    "        h1 = nn.Dense(features=self.channels[0])(x)\n",
    "        h1+= Dense(output_dim=self.channels[0])(embed)\n",
    "        h1 = nn.BatchNorm(use_running_average=True)(h1)\n",
    "\n",
    "        \n",
    "\n",
    "\n"
   ]
  },
  {
   "cell_type": "code",
   "execution_count": 5,
   "metadata": {},
   "outputs": [],
   "source": [
    "key = jax.random.PRNGKey(0)\n",
    "rng, step_rng = jax.random.split(key)\n",
    "x0 = jnp.ones((1,2))\n",
    "x1 = jax.random.uniform(step_rng, (1,))"
   ]
  },
  {
   "cell_type": "code",
   "execution_count": 6,
   "metadata": {},
   "outputs": [
    {
     "data": {
      "text/plain": [
       "Array([[1., 1.]], dtype=float32)"
      ]
     },
     "execution_count": 6,
     "metadata": {},
     "output_type": "execute_result"
    }
   ],
   "source": [
    "x0"
   ]
  },
  {
   "cell_type": "code",
   "execution_count": 7,
   "metadata": {},
   "outputs": [
    {
     "data": {
      "text/plain": [
       "Array([0.10536897], dtype=float32)"
      ]
     },
     "execution_count": 7,
     "metadata": {},
     "output_type": "execute_result"
    }
   ],
   "source": [
    "x1"
   ]
  },
  {
   "cell_type": "code",
   "execution_count": 8,
   "metadata": {},
   "outputs": [],
   "source": [
    "x_alpha = (1-x1)*x0"
   ]
  },
  {
   "cell_type": "code",
   "execution_count": 9,
   "metadata": {},
   "outputs": [
    {
     "data": {
      "text/plain": [
       "Array([[0.894631, 0.894631]], dtype=float32)"
      ]
     },
     "execution_count": 9,
     "metadata": {},
     "output_type": "execute_result"
    }
   ],
   "source": [
    "x_alpha"
   ]
  },
  {
   "cell_type": "code",
   "execution_count": null,
   "metadata": {},
   "outputs": [],
   "source": []
  }
 ],
 "metadata": {
  "kernelspec": {
   "display_name": "thesisnew",
   "language": "python",
   "name": "python3"
  },
  "language_info": {
   "codemirror_mode": {
    "name": "ipython",
    "version": 3
   },
   "file_extension": ".py",
   "mimetype": "text/x-python",
   "name": "python",
   "nbconvert_exporter": "python",
   "pygments_lexer": "ipython3",
   "version": "3.10.11"
  },
  "orig_nbformat": 4
 },
 "nbformat": 4,
 "nbformat_minor": 2
}
